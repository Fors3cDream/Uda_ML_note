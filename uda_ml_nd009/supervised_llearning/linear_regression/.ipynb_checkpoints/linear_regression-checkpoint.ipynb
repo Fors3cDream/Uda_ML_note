{
 "cells": [
  {
   "cell_type": "markdown",
   "metadata": {},
   "source": [
    "#### 线性回归\n",
    "\n",
    "回归 - 预测值。\n",
    "\n",
    "分类 - 预测状态。"
   ]
  },
  {
   "cell_type": "markdown",
   "metadata": {},
   "source": [
    "##### 绝对值技巧\n",
    "\n",
    "f(x) : y = wx + b\n",
    "\n",
    "点p(x1, y1) - 距离y轴的距离为 x1\n",
    "\n",
    "学习率a \n",
    "调整直线f(x)靠近p - (w+a*x1)x + (b+a*x1)"
   ]
  },
  {
   "cell_type": "markdown",
   "metadata": {},
   "source": [
    "##### 平方技巧\n",
    "点(p,q)\n",
    "y = (w+p(q-f(q))*a)x + (b+p(q-f(q))*a)"
   ]
  },
  {
   "cell_type": "markdown",
   "metadata": {},
   "source": [
    "##### 梯度下降 grande descent - 寻找误差最小值\n",
    "\n",
    "##### 平均绝对值误差 - （所有点的 y值与直线y值的差值的绝对值的和 ）/ 点数\n",
    "\n",
    "##### 平均平方误差  - 1/2m * sum((y' - y)^2)\n",
    "\n",
    "##### 最小化误差函数 -"
   ]
  },
  {
   "cell_type": "markdown",
   "metadata": {},
   "source": [
    "#### 批量梯度下降法与随机梯度下降法\n",
    "\n",
    "到目前为止，已经见过两种线性回归方法。\n",
    "\n",
    "- 逐个地在每个数据点应用平方（或绝对）误差，并重复这一流程多次。\n",
    "- 同时在每个数据点应用平方（或绝对）误差，并重复这一流程多次。\n",
    "\n",
    "具体而言，向数据点应用平方（或绝对）误差时，就会获得可以与模型权重相加的值。可以加上这些值，更新权重，然后在下个数据点应用平方（或绝对）误差。或者同时对所有点计算这些值，加上它们，然后使用这些值的和更新权重。\n",
    "\n",
    "第二种方法叫批量梯度下降法。 第一种方法叫随机梯度下降法。\n",
    "\n",
    "如果数据十分庞大，两种方法的计算速度都会很慢。线性回归的最佳方式是将数据拆分为很多小批次。每个批次都大概具有相同数量的数据点。然后使用每个批次更新权重。 - 小批次梯度下降法 Mini-Batch"
   ]
  },
  {
   "cell_type": "markdown",
   "metadata": {},
   "source": [
    "#### 线性回归\n",
    "\n",
    "在此部分，将使用线性回归根据 体质指数(BMI)预测预期寿命。\n",
    "\n",
    "使用scikit-learn 的 `LinearRegression`类。 类函数`fit()`来讲模型与数据进行拟合。\n",
    "\n",
    "~~~\n",
    "from sklearn.linear_model import LinearRegression\n",
    "\n",
    "model = LinearRegerssion()\n",
    "\n",
    "model.fit(x_values, y_values)\n",
    "~~~\n",
    "\n",
    "模型的`predict()`函数进行预测。\n",
    "\n",
    "步骤分为：\n",
    "\n",
    "1. 加载数据\n",
    "\n",
    "2. 构建线性回归模型\n",
    "\n",
    "3. 使用模型进行预测"
   ]
  },
  {
   "cell_type": "code",
   "execution_count": null,
   "metadata": {},
   "outputs": [],
   "source": []
  }
 ],
 "metadata": {
  "kernelspec": {
   "display_name": "Python 3",
   "language": "python",
   "name": "python3"
  },
  "language_info": {
   "codemirror_mode": {
    "name": "ipython",
    "version": 3
   },
   "file_extension": ".py",
   "mimetype": "text/x-python",
   "name": "python",
   "nbconvert_exporter": "python",
   "pygments_lexer": "ipython3",
   "version": "3.7.3"
  }
 },
 "nbformat": 4,
 "nbformat_minor": 2
}
