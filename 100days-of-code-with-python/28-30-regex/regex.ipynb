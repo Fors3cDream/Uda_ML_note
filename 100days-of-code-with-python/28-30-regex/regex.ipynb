{
 "cells": [
  {
   "cell_type": "markdown",
   "metadata": {},
   "source": [
    "# Regular Expressions in Python\n",
    "\n",
    "> Some people,when confronted with a problem,think,\"I know, I'll use regular expressions.\"Now they have two problems. - Jamie Zawinski"
   ]
  },
  {
   "cell_type": "markdown",
   "metadata": {},
   "source": [
    "## First day: quick overview\n",
    "\n",
    "This first day we will explore the basics of the `re`(standard library)modules so you can start adding this powerful skill to your python toolkit."
   ]
  },
  {
   "cell_type": "code",
   "execution_count": 1,
   "metadata": {},
   "outputs": [],
   "source": [
    "import re"
   ]
  },
  {
   "cell_type": "markdown",
   "metadata": {},
   "source": [
    "### When not to use regexes?\n",
    "\n",
    "Basically when regular string manipulations will do, for example:"
   ]
  },
  {
   "cell_type": "code",
   "execution_count": 2,
   "metadata": {},
   "outputs": [],
   "source": [
    "text = 'Awesome, I am doing the #100DaysOfCode challenge'"
   ]
  },
  {
   "cell_type": "markdown",
   "metadata": {},
   "source": [
    "Does text start with 'Awesome'?"
   ]
  },
  {
   "cell_type": "code",
   "execution_count": 3,
   "metadata": {},
   "outputs": [
    {
     "data": {
      "text/plain": [
       "True"
      ]
     },
     "execution_count": 3,
     "metadata": {},
     "output_type": "execute_result"
    }
   ],
   "source": [
    "text.startswith('Awesome')"
   ]
  },
  {
   "cell_type": "markdown",
   "metadata": {},
   "source": [
    "Does text end with 'challenge'?"
   ]
  },
  {
   "cell_type": "code",
   "execution_count": 4,
   "metadata": {},
   "outputs": [
    {
     "data": {
      "text/plain": [
       "True"
      ]
     },
     "execution_count": 4,
     "metadata": {},
     "output_type": "execute_result"
    }
   ],
   "source": [
    "text.endswith('challenge')"
   ]
  },
  {
   "cell_type": "markdown",
   "metadata": {},
   "source": [
    "Does text contain '100daysofcode'(case insensitive)"
   ]
  },
  {
   "cell_type": "code",
   "execution_count": 5,
   "metadata": {},
   "outputs": [
    {
     "data": {
      "text/plain": [
       "True"
      ]
     },
     "execution_count": 5,
     "metadata": {},
     "output_type": "execute_result"
    }
   ],
   "source": [
    "'100daysofcode' in text.lower()"
   ]
  },
  {
   "cell_type": "markdown",
   "metadata": {},
   "source": [
    "I am bold and want to do 200 days(note string are inmutable, so save to a new string)"
   ]
  },
  {
   "cell_type": "code",
   "execution_count": 6,
   "metadata": {},
   "outputs": [
    {
     "data": {
      "text/plain": [
       "'Awesome, I am doing the #200DaysOfCode challenge'"
      ]
     },
     "execution_count": 6,
     "metadata": {},
     "output_type": "execute_result"
    }
   ],
   "source": [
    "text.replace('100', '200')"
   ]
  },
  {
   "cell_type": "markdown",
   "metadata": {},
   "source": [
    "## Regex == Meta language\n",
    "\n",
    "But what if you need to do some more tricky things,say macthing any #(int)DaysOfCode?Here you want to use a regex pattern.Regular expressions are a (meta) language on their own and I highly encourage you to read through [this HOWTO](https://docs.python.org/3.7/howto/regex.html#regex-howto) to become familiar with their syntax. "
   ]
  },
  {
   "cell_type": "markdown",
   "metadata": {},
   "source": [
    "### search VS match\n",
    "\n",
    "The main methods you want to know about are `search` and `match`, former matches a substring,latter matches the string from beginning to end.I always embed my regex in r'' to avoid having to escape special characters like \\d(digit), \\w(char), \\s(space), \\S(non-space), etc."
   ]
  },
  {
   "cell_type": "code",
   "execution_count": 7,
   "metadata": {},
   "outputs": [],
   "source": [
    "text = 'Awesome, I am doing the #100DaysOfCode challenge'"
   ]
  },
  {
   "cell_type": "code",
   "execution_count": 8,
   "metadata": {},
   "outputs": [
    {
     "data": {
      "text/plain": [
       "<re.Match object; span=(9, 13), match='I am'>"
      ]
     },
     "execution_count": 8,
     "metadata": {},
     "output_type": "execute_result"
    }
   ],
   "source": [
    "re.search(r'I am', text)"
   ]
  },
  {
   "cell_type": "code",
   "execution_count": 9,
   "metadata": {},
   "outputs": [],
   "source": [
    "re.match(r'I am', text)"
   ]
  },
  {
   "cell_type": "code",
   "execution_count": 10,
   "metadata": {},
   "outputs": [
    {
     "data": {
      "text/plain": [
       "<re.Match object; span=(0, 48), match='Awesome, I am doing the #100DaysOfCode challenge'>"
      ]
     },
     "execution_count": 10,
     "metadata": {},
     "output_type": "execute_result"
    }
   ],
   "source": [
    "re.match(r'Awesome.*challenge', text)"
   ]
  },
  {
   "cell_type": "markdown",
   "metadata": {},
   "source": [
    "### Capturing strings\n",
    "\n",
    "A common task is to retrieve a match,you can use caputring() parenthesis for that:"
   ]
  },
  {
   "cell_type": "code",
   "execution_count": 11,
   "metadata": {},
   "outputs": [
    {
     "data": {
      "text/plain": [
       "'#100DaysOfCode'"
      ]
     },
     "execution_count": 11,
     "metadata": {},
     "output_type": "execute_result"
    }
   ],
   "source": [
    "hundred = 'Awesome, I am doing the #100DaysOfCode challenge'\n",
    "two_hundred = hundred.replace('#100', '#200')\n",
    "\n",
    "m = re.match(r'.*(#\\d+DaysOfCode).*', hundred)\n",
    "m.groups()[0]"
   ]
  },
  {
   "cell_type": "code",
   "execution_count": 12,
   "metadata": {},
   "outputs": [
    {
     "data": {
      "text/plain": [
       "'A'"
      ]
     },
     "execution_count": 12,
     "metadata": {},
     "output_type": "execute_result"
    }
   ],
   "source": [
    "m = re.search(r'.*(#\\d+DaysOfCode).*', two_hundred)\n",
    "m.group()[0]"
   ]
  },
  {
   "cell_type": "markdown",
   "metadata": {},
   "source": [
    "### `findall` is your friend\n",
    "\n",
    "What if you want to match multiple instance of a pattern? `re` has the convenient `findall` method I use a lot.For example in [our 100 Days Of Code](https://github.com/pybites/100DaysOfCode/blob/master/LOG.md) we used the `re` module for the following days - how would I extract the days from this string?"
   ]
  },
  {
   "cell_type": "code",
   "execution_count": 13,
   "metadata": {},
   "outputs": [
    {
     "data": {
      "text/plain": [
       "['005', '007', '009', '015', '021', '022', '068', '080', '081', '086', '095']"
      ]
     },
     "execution_count": 13,
     "metadata": {},
     "output_type": "execute_result"
    }
   ],
   "source": [
    "text = '''\n",
    "$ python module_index.py |grep ^re\n",
    "re                 | stdlib | 005, 007, 009, 015, 021, 022, 068, 080, 081, 086, 095\n",
    "'''\n",
    "\n",
    "re.findall(r'\\d+', text)"
   ]
  },
  {
   "cell_type": "markdown",
   "metadata": {},
   "source": [
    "How cool is that?Just because we can, look at how you can find the most common word combining `findall` with `Counter`:"
   ]
  },
  {
   "cell_type": "code",
   "execution_count": 14,
   "metadata": {},
   "outputs": [],
   "source": [
    "text = \"\"\"Lorem Ipsum is simply dummy text of the printing and typesetting industry. Lorem Ipsum has been \n",
    "the industry's standard dummy text ever since the 1500s, when an unknown printer took a galley of type and \n",
    "scrambled it to make a type specimen book. It has survived not only five centuries, but also the leap into \n",
    "electronic typesetting, remaining essentially unchanged. It was popularised in the 1960s with the release of\n",
    "Letraset sheets containing Lorem Ipsum passages, and more recently with desktop publishing software like Aldus\n",
    "PageMaker including versions of Lorem Ipsum\"\"\""
   ]
  },
  {
   "cell_type": "code",
   "execution_count": 15,
   "metadata": {},
   "outputs": [
    {
     "data": {
      "text/plain": [
       "['Lorem', 'Ipsum', 'is', 'simply', 'dummy']"
      ]
     },
     "execution_count": 15,
     "metadata": {},
     "output_type": "execute_result"
    }
   ],
   "source": [
    "text.split()[:5]"
   ]
  },
  {
   "cell_type": "markdown",
   "metadata": {},
   "source": [
    "Our course you can do the same with `words.split()` but if you have more requirements you might fit it in the same regex,for example let's only count words that start with a capital letter.\n",
    "\n",
    "I am using two character classes here (= pattern inside []), the first to match a capital letter,the second to match 0 or more common word characters.\n",
    "\n",
    "Note I am escaping the single quote(') inside the second character class,because the regex pattern is wrapped inside single quotes as well:"
   ]
  },
  {
   "cell_type": "code",
   "execution_count": 16,
   "metadata": {},
   "outputs": [
    {
     "data": {
      "text/plain": [
       "[('Lorem', 4), ('Ipsum', 4), ('It', 2), ('Letraset', 1), ('Aldus', 1)]"
      ]
     },
     "execution_count": 16,
     "metadata": {},
     "output_type": "execute_result"
    }
   ],
   "source": [
    "from collections import Counter\n",
    "\n",
    "cnt = Counter(re.findall(r'[A-Z][A-Za-z0-9\\']*', text))\n",
    "cnt.most_common(5)"
   ]
  },
  {
   "cell_type": "markdown",
   "metadata": {},
   "source": [
    "### Compiling regexes\n",
    "\n",
    "If you want to run the same regex multiple times, say in a for loop it is best practice to define the regex one time using `re.compile`,here is an example:"
   ]
  },
  {
   "cell_type": "code",
   "execution_count": 17,
   "metadata": {},
   "outputs": [
    {
     "data": {
      "text/plain": [
       "['1. Citizen Kane (1941)',\n",
       " '2. The Godfather (1972)',\n",
       " '3. Casablanca (1942)',\n",
       " '4. Raging Bull (1980)',\n",
       " \"5. Singin' in the Rain (1952)\",\n",
       " '6. Gone with the Wind (1939)',\n",
       " '7. Lawrence of Arabia (1962)',\n",
       " \"8. Schindler's List (1993)\",\n",
       " '9. Vertigo (1958)',\n",
       " '10. The Wizard of Oz (1939)']"
      ]
     },
     "execution_count": 17,
     "metadata": {},
     "output_type": "execute_result"
    }
   ],
   "source": [
    "movies = '''1. Citizen Kane (1941)\n",
    "2. The Godfather (1972)\n",
    "3. Casablanca (1942)\n",
    "4. Raging Bull (1980)\n",
    "5. Singin' in the Rain (1952)\n",
    "6. Gone with the Wind (1939)\n",
    "7. Lawrence of Arabia (1962)\n",
    "8. Schindler's List (1993)\n",
    "9. Vertigo (1958)\n",
    "10. The Wizard of Oz (1939)'''.split('\\n')\n",
    "movies"
   ]
  },
  {
   "cell_type": "markdown",
   "metadata": {},
   "source": [
    "Let's find movie titles that have exactly 2 words,just for exercise sake.Before peaking to the solution how wold you define such a regex?\n",
    "\n",
    "OK here is one way to do it,I am using `re.VERBOSE` which ignores spaces and comments so I can explain what each part of the regex does(really nice!)"
   ]
  },
  {
   "cell_type": "code",
   "execution_count": 18,
   "metadata": {},
   "outputs": [],
   "source": [
    "pat = re.compile(r'''\n",
    "^             # start of string\n",
    "\\d+           # one or more digits\n",
    "\\.            # a literal dot\n",
    "\\s+           # one or more spaces\n",
    "(?:           # non-capturing parenthesis, so I don't want store this match in groups()\n",
    "[A-Za-z']+\\s  # character class (note inclusion of ' for \"Schindler's\"), followed by a space\n",
    ")             # closing of non-capturing parenthesis\n",
    "{2}           # exactly 2 of the previously grouped subpattern\n",
    "\\(            # literal opening parenthesis\n",
    "\\d{4}         # exactly 4 digits (year)\n",
    "\\)            # literal closing parenthesis\n",
    "$             # end of string\n",
    "''', re.VERBOSE\n",
    ")"
   ]
  },
  {
   "cell_type": "markdown",
   "metadata": {},
   "source": [
    "As we've seen before if the regex matches it returns an `_sre.SRE_Match` object,otherwise it returns `None`"
   ]
  },
  {
   "cell_type": "code",
   "execution_count": 19,
   "metadata": {},
   "outputs": [
    {
     "name": "stdout",
     "output_type": "stream",
     "text": [
      "1. Citizen Kane (1941) <re.Match object; span=(0, 22), match='1. Citizen Kane (1941)'>\n",
      "2. The Godfather (1972) <re.Match object; span=(0, 23), match='2. The Godfather (1972)'>\n",
      "3. Casablanca (1942) None\n",
      "4. Raging Bull (1980) <re.Match object; span=(0, 21), match='4. Raging Bull (1980)'>\n",
      "5. Singin' in the Rain (1952) None\n",
      "6. Gone with the Wind (1939) None\n",
      "7. Lawrence of Arabia (1962) None\n",
      "8. Schindler's List (1993) <re.Match object; span=(0, 26), match=\"8. Schindler's List (1993)\">\n",
      "9. Vertigo (1958) None\n",
      "10. The Wizard of Oz (1939) None\n"
     ]
    }
   ],
   "source": [
    "for movie in movies:\n",
    "    print(movie, pat.match(movie))"
   ]
  },
  {
   "cell_type": "markdown",
   "metadata": {},
   "source": [
    "### Advanced string replacing\n",
    "\n",
    "As shown before `str.replace` probably covers a lot of your needs,for more advanced usage there is `re.sub`:"
   ]
  },
  {
   "cell_type": "code",
   "execution_count": 20,
   "metadata": {},
   "outputs": [
    {
     "data": {
      "text/plain": [
       "'Awesome, I am doing #100DaysOfCode, #100DaysOfDjango and of course #100DaysOfPyBites'"
      ]
     },
     "execution_count": 20,
     "metadata": {},
     "output_type": "execute_result"
    }
   ],
   "source": [
    "text = '''Awesome, I am doing #100DaysOfCode, #200DaysOfDjango and of course #365DaysOfPyBites'''\n",
    "\n",
    "# I want all challenges to be 100 days, I need a break!\n",
    "text.replace('200', '100').replace('365', '100')"
   ]
  },
  {
   "cell_type": "markdown",
   "metadata": {},
   "source": [
    "`re.sub` makes this easy:"
   ]
  },
  {
   "cell_type": "code",
   "execution_count": 21,
   "metadata": {},
   "outputs": [
    {
     "data": {
      "text/plain": [
       "'Awesome, I am doing #100DaysOfCode, #100DaysOfDjango and of course #100DaysOfPyBites'"
      ]
     },
     "execution_count": 21,
     "metadata": {},
     "output_type": "execute_result"
    }
   ],
   "source": [
    "re.sub(r'\\d+', '100', text)"
   ]
  },
  {
   "cell_type": "markdown",
   "metadata": {},
   "source": [
    "Or what if I want to change all the #nDaysOf... to #nDaysOfPython? You can use `re.sub` for this.Note how I use the capturing parenthesis to port over the matching part of the string to the replacement(2nd argument) where I use `\\1` to reference it:"
   ]
  },
  {
   "cell_type": "code",
   "execution_count": 23,
   "metadata": {},
   "outputs": [
    {
     "data": {
      "text/plain": [
       "'Awesome, I am doing #100DaysOfPython, #200DaysOfPython and of course #365DaysOfPython'"
      ]
     },
     "execution_count": 23,
     "metadata": {},
     "output_type": "execute_result"
    }
   ],
   "source": [
    "re.sub(r'(#\\d+DaysOf)\\w+', r'\\1Python', text)"
   ]
  },
  {
   "cell_type": "code",
   "execution_count": null,
   "metadata": {},
   "outputs": [],
   "source": []
  }
 ],
 "metadata": {
  "kernelspec": {
   "display_name": "Python 3",
   "language": "python",
   "name": "python3"
  },
  "language_info": {
   "codemirror_mode": {
    "name": "ipython",
    "version": 3
   },
   "file_extension": ".py",
   "mimetype": "text/x-python",
   "name": "python",
   "nbconvert_exporter": "python",
   "pygments_lexer": "ipython3",
   "version": "3.7.3"
  }
 },
 "nbformat": 4,
 "nbformat_minor": 2
}
